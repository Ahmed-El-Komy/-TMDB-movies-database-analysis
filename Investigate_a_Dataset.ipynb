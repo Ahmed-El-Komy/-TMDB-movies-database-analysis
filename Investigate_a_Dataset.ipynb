{
 "cells": [
  {
   "cell_type": "markdown",
   "metadata": {},
   "source": [
    "\n",
    "# Project: TMDB Movie Data\n",
    "\n",
    "## Table of Contents\n",
    "<ul>\n",
    "<li><a href=\"#intro\">Introduction</a></li>\n",
    "<li><a href=\"#wrangling\">Data Wrangling</a></li>\n",
    "<li><a href=\"#eda\">Exploratory Data Analysis</a></li>\n",
    "<li><a href=\"#conclusions\">Conclusions</a></li>\n",
    "</ul>"
   ]
  },
  {
   "cell_type": "markdown",
   "metadata": {},
   "source": [
    "<a id='intro'></a>\n",
    "## Introduction\n",
    "\n",
    "The dataset which has been analyzed in this notebook contains information about nearly 10,000 movies collected from The Movie Database (TMDb). each row correspondends to a movie and includes a range of data about each movie. relevant data to be used in the following analysis includes the following variables:\n",
    "\n",
    "    -origieal_title\n",
    "    -geners\n",
    "    -release_year\n",
    "    -budget_adj\n",
    "    -revenue_adj\n",
    "\n",
    "in this report we will try to answer these questions:\n",
    "\n",
    "    1- Does being a high budget movie mean having high popularity?\n",
    "    2- Which genres are most popular from decade to decade?\n",
    "\n"
   ]
  },
  {
   "cell_type": "code",
   "execution_count": 6,
   "metadata": {},
   "outputs": [],
   "source": [
    "import pandas as pd\n",
    "import numpy as np\n",
    "import scipy as sp\n",
    "import matplotlib.pyplot as plt\n",
    "import seaborn as sns\n",
    "%matplotlib inline\n"
   ]
  },
  {
   "cell_type": "code",
   "execution_count": 7,
   "metadata": {},
   "outputs": [],
   "source": [
    "df = pd.read_csv('tmdb-movies.csv')"
   ]
  },
  {
   "cell_type": "markdown",
   "metadata": {},
   "source": [
    "<a id='wrangling'></a>\n",
    "## Data Wrangling\n",
    "\n",
    "### General Properties"
   ]
  },
  {
   "cell_type": "code",
   "execution_count": 8,
   "metadata": {},
   "outputs": [
    {
     "name": "stdout",
     "output_type": "stream",
     "text": [
      "<class 'pandas.core.frame.DataFrame'>\n",
      "RangeIndex: 10866 entries, 0 to 10865\n",
      "Data columns (total 21 columns):\n",
      "id                      10866 non-null int64\n",
      "imdb_id                 10856 non-null object\n",
      "popularity              10866 non-null float64\n",
      "budget                  10866 non-null int64\n",
      "revenue                 10866 non-null int64\n",
      "original_title          10866 non-null object\n",
      "cast                    10790 non-null object\n",
      "homepage                2936 non-null object\n",
      "director                10822 non-null object\n",
      "tagline                 8042 non-null object\n",
      "keywords                9373 non-null object\n",
      "overview                10862 non-null object\n",
      "runtime                 10866 non-null int64\n",
      "genres                  10843 non-null object\n",
      "production_companies    9836 non-null object\n",
      "release_date            10866 non-null object\n",
      "vote_count              10866 non-null int64\n",
      "vote_average            10866 non-null float64\n",
      "release_year            10866 non-null int64\n",
      "budget_adj              10866 non-null float64\n",
      "revenue_adj             10866 non-null float64\n",
      "dtypes: float64(4), int64(6), object(11)\n",
      "memory usage: 1.7+ MB\n"
     ]
    }
   ],
   "source": [
    "df.info()"
   ]
  },
  {
   "cell_type": "markdown",
   "metadata": {},
   "source": [
    "The dataset conatins 21 columns and 10866 rows before any cleaning."
   ]
  },
  {
   "cell_type": "markdown",
   "metadata": {},
   "source": [
    "\n",
    "### Data Cleaning "
   ]
  },
  {
   "cell_type": "code",
   "execution_count": 10,
   "metadata": {},
   "outputs": [
    {
     "data": {
      "text/html": [
       "<div>\n",
       "<style scoped>\n",
       "    .dataframe tbody tr th:only-of-type {\n",
       "        vertical-align: middle;\n",
       "    }\n",
       "\n",
       "    .dataframe tbody tr th {\n",
       "        vertical-align: top;\n",
       "    }\n",
       "\n",
       "    .dataframe thead th {\n",
       "        text-align: right;\n",
       "    }\n",
       "</style>\n",
       "<table border=\"1\" class=\"dataframe\">\n",
       "  <thead>\n",
       "    <tr style=\"text-align: right;\">\n",
       "      <th></th>\n",
       "      <th>id</th>\n",
       "      <th>popularity</th>\n",
       "      <th>budget</th>\n",
       "      <th>revenue</th>\n",
       "      <th>runtime</th>\n",
       "      <th>vote_count</th>\n",
       "      <th>vote_average</th>\n",
       "      <th>release_year</th>\n",
       "      <th>budget_adj</th>\n",
       "      <th>revenue_adj</th>\n",
       "    </tr>\n",
       "  </thead>\n",
       "  <tbody>\n",
       "    <tr>\n",
       "      <th>count</th>\n",
       "      <td>10866.000000</td>\n",
       "      <td>10866.000000</td>\n",
       "      <td>1.086600e+04</td>\n",
       "      <td>1.086600e+04</td>\n",
       "      <td>10866.000000</td>\n",
       "      <td>10866.000000</td>\n",
       "      <td>10866.000000</td>\n",
       "      <td>10866.000000</td>\n",
       "      <td>1.086600e+04</td>\n",
       "      <td>1.086600e+04</td>\n",
       "    </tr>\n",
       "    <tr>\n",
       "      <th>mean</th>\n",
       "      <td>66064.177434</td>\n",
       "      <td>0.646441</td>\n",
       "      <td>1.462570e+07</td>\n",
       "      <td>3.982332e+07</td>\n",
       "      <td>102.070863</td>\n",
       "      <td>217.389748</td>\n",
       "      <td>5.974922</td>\n",
       "      <td>2001.322658</td>\n",
       "      <td>1.755104e+07</td>\n",
       "      <td>5.136436e+07</td>\n",
       "    </tr>\n",
       "    <tr>\n",
       "      <th>std</th>\n",
       "      <td>92130.136561</td>\n",
       "      <td>1.000185</td>\n",
       "      <td>3.091321e+07</td>\n",
       "      <td>1.170035e+08</td>\n",
       "      <td>31.381405</td>\n",
       "      <td>575.619058</td>\n",
       "      <td>0.935142</td>\n",
       "      <td>12.812941</td>\n",
       "      <td>3.430616e+07</td>\n",
       "      <td>1.446325e+08</td>\n",
       "    </tr>\n",
       "    <tr>\n",
       "      <th>min</th>\n",
       "      <td>5.000000</td>\n",
       "      <td>0.000065</td>\n",
       "      <td>0.000000e+00</td>\n",
       "      <td>0.000000e+00</td>\n",
       "      <td>0.000000</td>\n",
       "      <td>10.000000</td>\n",
       "      <td>1.500000</td>\n",
       "      <td>1960.000000</td>\n",
       "      <td>0.000000e+00</td>\n",
       "      <td>0.000000e+00</td>\n",
       "    </tr>\n",
       "    <tr>\n",
       "      <th>25%</th>\n",
       "      <td>10596.250000</td>\n",
       "      <td>0.207583</td>\n",
       "      <td>0.000000e+00</td>\n",
       "      <td>0.000000e+00</td>\n",
       "      <td>90.000000</td>\n",
       "      <td>17.000000</td>\n",
       "      <td>5.400000</td>\n",
       "      <td>1995.000000</td>\n",
       "      <td>0.000000e+00</td>\n",
       "      <td>0.000000e+00</td>\n",
       "    </tr>\n",
       "    <tr>\n",
       "      <th>50%</th>\n",
       "      <td>20669.000000</td>\n",
       "      <td>0.383856</td>\n",
       "      <td>0.000000e+00</td>\n",
       "      <td>0.000000e+00</td>\n",
       "      <td>99.000000</td>\n",
       "      <td>38.000000</td>\n",
       "      <td>6.000000</td>\n",
       "      <td>2006.000000</td>\n",
       "      <td>0.000000e+00</td>\n",
       "      <td>0.000000e+00</td>\n",
       "    </tr>\n",
       "    <tr>\n",
       "      <th>75%</th>\n",
       "      <td>75610.000000</td>\n",
       "      <td>0.713817</td>\n",
       "      <td>1.500000e+07</td>\n",
       "      <td>2.400000e+07</td>\n",
       "      <td>111.000000</td>\n",
       "      <td>145.750000</td>\n",
       "      <td>6.600000</td>\n",
       "      <td>2011.000000</td>\n",
       "      <td>2.085325e+07</td>\n",
       "      <td>3.369710e+07</td>\n",
       "    </tr>\n",
       "    <tr>\n",
       "      <th>max</th>\n",
       "      <td>417859.000000</td>\n",
       "      <td>32.985763</td>\n",
       "      <td>4.250000e+08</td>\n",
       "      <td>2.781506e+09</td>\n",
       "      <td>900.000000</td>\n",
       "      <td>9767.000000</td>\n",
       "      <td>9.200000</td>\n",
       "      <td>2015.000000</td>\n",
       "      <td>4.250000e+08</td>\n",
       "      <td>2.827124e+09</td>\n",
       "    </tr>\n",
       "  </tbody>\n",
       "</table>\n",
       "</div>"
      ],
      "text/plain": [
       "                  id    popularity        budget       revenue       runtime  \\\n",
       "count   10866.000000  10866.000000  1.086600e+04  1.086600e+04  10866.000000   \n",
       "mean    66064.177434      0.646441  1.462570e+07  3.982332e+07    102.070863   \n",
       "std     92130.136561      1.000185  3.091321e+07  1.170035e+08     31.381405   \n",
       "min         5.000000      0.000065  0.000000e+00  0.000000e+00      0.000000   \n",
       "25%     10596.250000      0.207583  0.000000e+00  0.000000e+00     90.000000   \n",
       "50%     20669.000000      0.383856  0.000000e+00  0.000000e+00     99.000000   \n",
       "75%     75610.000000      0.713817  1.500000e+07  2.400000e+07    111.000000   \n",
       "max    417859.000000     32.985763  4.250000e+08  2.781506e+09    900.000000   \n",
       "\n",
       "         vote_count  vote_average  release_year    budget_adj   revenue_adj  \n",
       "count  10866.000000  10866.000000  10866.000000  1.086600e+04  1.086600e+04  \n",
       "mean     217.389748      5.974922   2001.322658  1.755104e+07  5.136436e+07  \n",
       "std      575.619058      0.935142     12.812941  3.430616e+07  1.446325e+08  \n",
       "min       10.000000      1.500000   1960.000000  0.000000e+00  0.000000e+00  \n",
       "25%       17.000000      5.400000   1995.000000  0.000000e+00  0.000000e+00  \n",
       "50%       38.000000      6.000000   2006.000000  0.000000e+00  0.000000e+00  \n",
       "75%      145.750000      6.600000   2011.000000  2.085325e+07  3.369710e+07  \n",
       "max     9767.000000      9.200000   2015.000000  4.250000e+08  2.827124e+09  "
      ]
     },
     "execution_count": 10,
     "metadata": {},
     "output_type": "execute_result"
    }
   ],
   "source": [
    "df.describe()\n"
   ]
  },
  {
   "cell_type": "markdown",
   "metadata": {},
   "source": [
    "by looking at the statistics, there are some columns that have a minimum of zero (budget, revenue, and runtime) so we will drop these cases, so they don't affect our analysis. (drop the outliers)\n"
   ]
  },
  {
   "cell_type": "code",
   "execution_count": 11,
   "metadata": {},
   "outputs": [
    {
     "data": {
      "text/html": [
       "<div>\n",
       "<style scoped>\n",
       "    .dataframe tbody tr th:only-of-type {\n",
       "        vertical-align: middle;\n",
       "    }\n",
       "\n",
       "    .dataframe tbody tr th {\n",
       "        vertical-align: top;\n",
       "    }\n",
       "\n",
       "    .dataframe thead th {\n",
       "        text-align: right;\n",
       "    }\n",
       "</style>\n",
       "<table border=\"1\" class=\"dataframe\">\n",
       "  <thead>\n",
       "    <tr style=\"text-align: right;\">\n",
       "      <th></th>\n",
       "      <th>id</th>\n",
       "      <th>popularity</th>\n",
       "      <th>budget</th>\n",
       "      <th>revenue</th>\n",
       "      <th>runtime</th>\n",
       "      <th>vote_count</th>\n",
       "      <th>vote_average</th>\n",
       "      <th>release_year</th>\n",
       "      <th>budget_adj</th>\n",
       "      <th>revenue_adj</th>\n",
       "    </tr>\n",
       "  </thead>\n",
       "  <tbody>\n",
       "    <tr>\n",
       "      <th>count</th>\n",
       "      <td>3855.000000</td>\n",
       "      <td>3855.000000</td>\n",
       "      <td>3.855000e+03</td>\n",
       "      <td>3.855000e+03</td>\n",
       "      <td>3855.000000</td>\n",
       "      <td>3855.000000</td>\n",
       "      <td>3855.00000</td>\n",
       "      <td>3855.000000</td>\n",
       "      <td>3.855000e+03</td>\n",
       "      <td>3.855000e+03</td>\n",
       "    </tr>\n",
       "    <tr>\n",
       "      <th>mean</th>\n",
       "      <td>39888.783398</td>\n",
       "      <td>1.191400</td>\n",
       "      <td>3.720183e+07</td>\n",
       "      <td>1.076589e+08</td>\n",
       "      <td>109.215824</td>\n",
       "      <td>527.611933</td>\n",
       "      <td>6.16786</td>\n",
       "      <td>2001.263294</td>\n",
       "      <td>4.423630e+07</td>\n",
       "      <td>1.370294e+08</td>\n",
       "    </tr>\n",
       "    <tr>\n",
       "      <th>std</th>\n",
       "      <td>67213.815955</td>\n",
       "      <td>1.475002</td>\n",
       "      <td>4.220291e+07</td>\n",
       "      <td>1.765248e+08</td>\n",
       "      <td>19.922166</td>\n",
       "      <td>879.868374</td>\n",
       "      <td>0.79504</td>\n",
       "      <td>11.281989</td>\n",
       "      <td>4.480403e+07</td>\n",
       "      <td>2.160944e+08</td>\n",
       "    </tr>\n",
       "    <tr>\n",
       "      <th>min</th>\n",
       "      <td>5.000000</td>\n",
       "      <td>0.001117</td>\n",
       "      <td>1.000000e+00</td>\n",
       "      <td>2.000000e+00</td>\n",
       "      <td>15.000000</td>\n",
       "      <td>10.000000</td>\n",
       "      <td>2.20000</td>\n",
       "      <td>1960.000000</td>\n",
       "      <td>9.693980e-01</td>\n",
       "      <td>2.370705e+00</td>\n",
       "    </tr>\n",
       "    <tr>\n",
       "      <th>25%</th>\n",
       "      <td>6074.000000</td>\n",
       "      <td>0.462448</td>\n",
       "      <td>1.000000e+07</td>\n",
       "      <td>1.357645e+07</td>\n",
       "      <td>95.000000</td>\n",
       "      <td>71.000000</td>\n",
       "      <td>5.70000</td>\n",
       "      <td>1995.000000</td>\n",
       "      <td>1.309053e+07</td>\n",
       "      <td>1.834123e+07</td>\n",
       "    </tr>\n",
       "    <tr>\n",
       "      <th>50%</th>\n",
       "      <td>11322.000000</td>\n",
       "      <td>0.797298</td>\n",
       "      <td>2.400000e+07</td>\n",
       "      <td>4.479322e+07</td>\n",
       "      <td>106.000000</td>\n",
       "      <td>204.000000</td>\n",
       "      <td>6.20000</td>\n",
       "      <td>2004.000000</td>\n",
       "      <td>3.001558e+07</td>\n",
       "      <td>6.171861e+07</td>\n",
       "    </tr>\n",
       "    <tr>\n",
       "      <th>75%</th>\n",
       "      <td>38577.000000</td>\n",
       "      <td>1.368245</td>\n",
       "      <td>5.000000e+07</td>\n",
       "      <td>1.241530e+08</td>\n",
       "      <td>119.000000</td>\n",
       "      <td>580.000000</td>\n",
       "      <td>6.70000</td>\n",
       "      <td>2010.000000</td>\n",
       "      <td>6.061307e+07</td>\n",
       "      <td>1.632401e+08</td>\n",
       "    </tr>\n",
       "    <tr>\n",
       "      <th>max</th>\n",
       "      <td>417859.000000</td>\n",
       "      <td>32.985763</td>\n",
       "      <td>4.250000e+08</td>\n",
       "      <td>2.781506e+09</td>\n",
       "      <td>338.000000</td>\n",
       "      <td>9767.000000</td>\n",
       "      <td>8.40000</td>\n",
       "      <td>2015.000000</td>\n",
       "      <td>4.250000e+08</td>\n",
       "      <td>2.827124e+09</td>\n",
       "    </tr>\n",
       "  </tbody>\n",
       "</table>\n",
       "</div>"
      ],
      "text/plain": [
       "                  id   popularity        budget       revenue      runtime  \\\n",
       "count    3855.000000  3855.000000  3.855000e+03  3.855000e+03  3855.000000   \n",
       "mean    39888.783398     1.191400  3.720183e+07  1.076589e+08   109.215824   \n",
       "std     67213.815955     1.475002  4.220291e+07  1.765248e+08    19.922166   \n",
       "min         5.000000     0.001117  1.000000e+00  2.000000e+00    15.000000   \n",
       "25%      6074.000000     0.462448  1.000000e+07  1.357645e+07    95.000000   \n",
       "50%     11322.000000     0.797298  2.400000e+07  4.479322e+07   106.000000   \n",
       "75%     38577.000000     1.368245  5.000000e+07  1.241530e+08   119.000000   \n",
       "max    417859.000000    32.985763  4.250000e+08  2.781506e+09   338.000000   \n",
       "\n",
       "        vote_count  vote_average  release_year    budget_adj   revenue_adj  \n",
       "count  3855.000000    3855.00000   3855.000000  3.855000e+03  3.855000e+03  \n",
       "mean    527.611933       6.16786   2001.263294  4.423630e+07  1.370294e+08  \n",
       "std     879.868374       0.79504     11.281989  4.480403e+07  2.160944e+08  \n",
       "min      10.000000       2.20000   1960.000000  9.693980e-01  2.370705e+00  \n",
       "25%      71.000000       5.70000   1995.000000  1.309053e+07  1.834123e+07  \n",
       "50%     204.000000       6.20000   2004.000000  3.001558e+07  6.171861e+07  \n",
       "75%     580.000000       6.70000   2010.000000  6.061307e+07  1.632401e+08  \n",
       "max    9767.000000       8.40000   2015.000000  4.250000e+08  2.827124e+09  "
      ]
     },
     "execution_count": 11,
     "metadata": {},
     "output_type": "execute_result"
    }
   ],
   "source": [
    "df_zero_budget = df.query(\"budget == 0\")\n",
    "df.drop(df_zero_budget.index, inplace=True)\n",
    "df_zero_revenue = df.query(\"revenue == 0\")\n",
    "df.drop(df_zero_revenue.index, inplace=True)\n",
    "df_zero_runtime = df.query(\"runtime == 0\")\n",
    "df.drop(df_zero_runtime.index, inplace=True)\n",
    "df.describe()"
   ]
  },
  {
   "cell_type": "code",
   "execution_count": 14,
   "metadata": {},
   "outputs": [],
   "source": [
    "# release_date column needs to be converted to datetime\n",
    "df['release_date'] = pd.to_datetime(df['release_date'])"
   ]
  },
  {
   "cell_type": "code",
   "execution_count": 15,
   "metadata": {},
   "outputs": [
    {
     "data": {
      "text/plain": [
       "1"
      ]
     },
     "execution_count": 15,
     "metadata": {},
     "output_type": "execute_result"
    }
   ],
   "source": [
    "# Check for duplicates in the rows\n",
    "sum(df.duplicated())"
   ]
  },
  {
   "cell_type": "code",
   "execution_count": 16,
   "metadata": {},
   "outputs": [
    {
     "name": "stdout",
     "output_type": "stream",
     "text": [
      "<class 'pandas.core.frame.DataFrame'>\n",
      "Int64Index: 3854 entries, 0 to 10848\n",
      "Data columns (total 21 columns):\n",
      "id                      3854 non-null int64\n",
      "imdb_id                 3854 non-null object\n",
      "popularity              3854 non-null float64\n",
      "budget                  3854 non-null int64\n",
      "revenue                 3854 non-null int64\n",
      "original_title          3854 non-null object\n",
      "cast                    3850 non-null object\n",
      "homepage                1426 non-null object\n",
      "director                3853 non-null object\n",
      "tagline                 3574 non-null object\n",
      "keywords                3716 non-null object\n",
      "overview                3854 non-null object\n",
      "runtime                 3854 non-null int64\n",
      "genres                  3854 non-null object\n",
      "production_companies    3808 non-null object\n",
      "release_date            3854 non-null datetime64[ns]\n",
      "vote_count              3854 non-null int64\n",
      "vote_average            3854 non-null float64\n",
      "release_year            3854 non-null int64\n",
      "budget_adj              3854 non-null float64\n",
      "revenue_adj             3854 non-null float64\n",
      "dtypes: datetime64[ns](1), float64(4), int64(6), object(10)\n",
      "memory usage: 662.4+ KB\n"
     ]
    }
   ],
   "source": [
    "# Drop the duplicated rows\n",
    "df.drop_duplicates(inplace=True)\n",
    "df.info()"
   ]
  },
  {
   "cell_type": "markdown",
   "metadata": {},
   "source": [
    "<a id='eda'></a>\n",
    "## Exploratory Data Analysis\n",
    "\n",
    "### Does being a high budget movie mean having high popularity?\n"
   ]
  },
  {
   "cell_type": "code",
   "execution_count": 17,
   "metadata": {},
   "outputs": [
    {
     "data": {
      "text/plain": [
       "Text(0.5,1,'Budget vs. Popularity')"
      ]
     },
     "execution_count": 17,
     "metadata": {},
     "output_type": "execute_result"
    },
    {
     "data": {
      "image/png": "[encoded data removed]",
      "text/plain": [
       "<matplotlib.figure.Figure at 0x7ff28d5a2780>"
      ]
     },
     "metadata": {
      "needs_background": "light"
     },
     "output_type": "display_data"
    }
   ],
   "source": [
    "plt.scatter(df['budget_adj'],df['popularity'])\n",
    "plt.xlabel(\"Budget\")\n",
    "plt.ylabel(\"Popularity\")\n",
    "plt.title(\"Budget vs. Popularity\")\n"
   ]
  },
  {
   "cell_type": "markdown",
   "metadata": {},
   "source": [
    "We can see that there is a positive correlation between the budget and popularity. So, yes, the budget affects the popularity but not all the times. As we can see some movies have high budget but low popularity. We can further compute the coefficient of correlation with its p-value to prove that as it shows to us how strong is the relation between these two variables.\n",
    "\n"
   ]
  },
  {
   "cell_type": "code",
   "execution_count": 18,
   "metadata": {},
   "outputs": [
    {
     "data": {
      "text/plain": [
       "(0.39935581849026325, 1.5192158270413116e-147)"
      ]
     },
     "execution_count": 18,
     "metadata": {},
     "output_type": "execute_result"
    }
   ],
   "source": [
    "sp.stats.pearsonr(df['popularity'], df['budget_adj'])\n"
   ]
  },
  {
   "cell_type": "markdown",
   "metadata": {},
   "source": [
    "As we can see from the correlation coefficient, the relation between popularity and budget is weak and positive (+0.399).\n",
    "\n"
   ]
  },
  {
   "cell_type": "markdown",
   "metadata": {},
   "source": [
    "### Which genres are most popular from decade to decade?\n"
   ]
  },
  {
   "cell_type": "code",
   "execution_count": 19,
   "metadata": {},
   "outputs": [
    {
     "data": {
      "text/plain": [
       "Drama                                       245\n",
       "Comedy                                      233\n",
       "Drama|Romance                               107\n",
       "Comedy|Romance                              104\n",
       "Comedy|Drama|Romance                         91\n",
       "Comedy|Drama                                 88\n",
       "Horror|Thriller                              81\n",
       "Horror                                       58\n",
       "Drama|Thriller                               48\n",
       "Action|Thriller                              39\n",
       "Crime|Drama|Thriller                         37\n",
       "Drama|Comedy                                 36\n",
       "Comedy|Family                                32\n",
       "Action|Crime|Thriller                        31\n",
       "Drama|History                                28\n",
       "Drama|Crime                                  27\n",
       "Crime|Drama                                  26\n",
       "Action|Crime|Drama|Thriller                  25\n",
       "Drama|Comedy|Romance                         25\n",
       "Thriller                                     25\n",
       "Comedy|Crime                                 22\n",
       "Documentary                                  22\n",
       "Action|Thriller|Crime                        22\n",
       "Adventure|Action|Thriller                    22\n",
       "Horror|Mystery|Thriller                      21\n",
       "Action                                       21\n",
       "Action|Adventure|Thriller                    20\n",
       "Action|Comedy                                20\n",
       "Animation|Family                             18\n",
       "Crime|Drama|Mystery|Thriller                 18\n",
       "                                           ... \n",
       "Crime|Adventure|Action|Comedy|Thriller        1\n",
       "Drama|History|Mystery                         1\n",
       "Drama|Thriller|Crime|Adventure                1\n",
       "Drama|Comedy|Romance|Science Fiction          1\n",
       "Comedy|Thriller|Crime|Mystery                 1\n",
       "Science Fiction|Drama|Romance|Fantasy         1\n",
       "Adventure|Animation|Drama                     1\n",
       "Thriller|Science Fiction|Action|Crime         1\n",
       "Comedy|Family|Fantasy|Science Fiction         1\n",
       "Comedy|Adventure|Crime|Family                 1\n",
       "Drama|History|Crime                           1\n",
       "Adventure|Fantasy|Horror|Action|Thriller      1\n",
       "Action|Comedy|Drama|Family|Thriller           1\n",
       "Action|Drama|History|Western                  1\n",
       "Fantasy|Mystery|Thriller                      1\n",
       "Animation|Drama|Family                        1\n",
       "Romance|Adventure|Drama                       1\n",
       "Documentary|Drama|Music|Thriller              1\n",
       "Horror|Drama|Thriller|Mystery                 1\n",
       "Drama|Music|Adventure|Fantasy                 1\n",
       "Action|Adventure|Comedy|Thriller|Crime        1\n",
       "Adventure|Western                             1\n",
       "Crime|Horror|Mystery                          1\n",
       "Action|Adventure|Drama|Thriller|War           1\n",
       "Fantasy|Comedy|Science Fiction|Family         1\n",
       "Thriller|Action                               1\n",
       "War|History|Action|Adventure|Drama            1\n",
       "Action|Adventure|Fantasy|War                  1\n",
       "Crime|Drama|Horror|Mystery|Thriller           1\n",
       "Drama|Foreign|Horror                          1\n",
       "Name: genres, Length: 1053, dtype: int64"
      ]
     },
     "execution_count": 19,
     "metadata": {},
     "output_type": "execute_result"
    }
   ],
   "source": [
    "df['genres'].value_counts() \n"
   ]
  },
  {
   "cell_type": "markdown",
   "metadata": {},
   "source": [
    "as we can see, We have a problem here that a film can have multiple genres separated by '|' so we will need to split these into multiple rows to be able to answer this question.\n",
    "\n"
   ]
  },
  {
   "cell_type": "code",
   "execution_count": 20,
   "metadata": {},
   "outputs": [
    {
     "data": {
      "text/html": [
       "<div>\n",
       "<style scoped>\n",
       "    .dataframe tbody tr th:only-of-type {\n",
       "        vertical-align: middle;\n",
       "    }\n",
       "\n",
       "    .dataframe tbody tr th {\n",
       "        vertical-align: top;\n",
       "    }\n",
       "\n",
       "    .dataframe thead th {\n",
       "        text-align: right;\n",
       "    }\n",
       "</style>\n",
       "<table border=\"1\" class=\"dataframe\">\n",
       "  <thead>\n",
       "    <tr style=\"text-align: right;\">\n",
       "      <th></th>\n",
       "      <th>release_year</th>\n",
       "      <th>genres</th>\n",
       "    </tr>\n",
       "  </thead>\n",
       "  <tbody>\n",
       "    <tr>\n",
       "      <th>0</th>\n",
       "      <td>2015</td>\n",
       "      <td>Action</td>\n",
       "    </tr>\n",
       "    <tr>\n",
       "      <th>1</th>\n",
       "      <td>2015</td>\n",
       "      <td>Adventure</td>\n",
       "    </tr>\n",
       "    <tr>\n",
       "      <th>2</th>\n",
       "      <td>2015</td>\n",
       "      <td>Science Fiction</td>\n",
       "    </tr>\n",
       "    <tr>\n",
       "      <th>3</th>\n",
       "      <td>2015</td>\n",
       "      <td>Thriller</td>\n",
       "    </tr>\n",
       "    <tr>\n",
       "      <th>0</th>\n",
       "      <td>2015</td>\n",
       "      <td>Action</td>\n",
       "    </tr>\n",
       "  </tbody>\n",
       "</table>\n",
       "</div>"
      ],
      "text/plain": [
       "   release_year           genres\n",
       "0          2015           Action\n",
       "1          2015        Adventure\n",
       "2          2015  Science Fiction\n",
       "3          2015         Thriller\n",
       "0          2015           Action"
      ]
     },
     "execution_count": 20,
     "metadata": {},
     "output_type": "execute_result"
    }
   ],
   "source": [
    "df_genres = pd.DataFrame(df.genres.str.split('|').tolist(), index=[df.release_year]).stack()\n",
    "df_genres = df_genres.reset_index([0])\n",
    "df_genres.rename(columns={0:\"genres\"},inplace=True)\n",
    "df_genres.head()"
   ]
  },
  {
   "cell_type": "code",
   "execution_count": 21,
   "metadata": {},
   "outputs": [
    {
     "data": {
      "text/plain": [
       "count    10303.000000\n",
       "mean      2000.921867\n",
       "std         11.277350\n",
       "min       1960.000000\n",
       "25%       1995.000000\n",
       "50%       2004.000000\n",
       "75%       2010.000000\n",
       "max       2015.000000\n",
       "Name: release_year, dtype: float64"
      ]
     },
     "execution_count": 21,
     "metadata": {},
     "output_type": "execute_result"
    }
   ],
   "source": [
    "df_genres['release_year'].describe()\n"
   ]
  },
  {
   "cell_type": "code",
   "execution_count": 23,
   "metadata": {},
   "outputs": [],
   "source": [
    "#It is better to discover the most popular genres over decades not over years.\n",
    "\n",
    "df_genres_1960s = df_genres.query(\"release_year >= 1960 & release_year < 1970\")\n",
    "df_genres_1970s = df_genres.query(\"release_year >= 1970 & release_year < 1980\")\n",
    "df_genres_1980s = df_genres.query(\"release_year >= 1980 & release_year < 1990\")\n",
    "df_genres_1990s = df_genres.query(\"release_year >= 1990 & release_year < 2000\")\n",
    "df_genres_2000s = df_genres.query(\"release_year >= 2000 & release_year < 2010\")\n",
    "df_genres_2010s = df_genres.query(\"release_year >= 2010 & release_year < 2020\")\n"
   ]
  },
  {
   "cell_type": "code",
   "execution_count": 24,
   "metadata": {},
   "outputs": [
    {
     "data": {
      "text/plain": [
       "Text(0.5,1,'Genres Frequncy for 2010s')"
      ]
     },
     "execution_count": 24,
     "metadata": {},
     "output_type": "execute_result"
    },
    {
     "data": {
      "image/png": "[encoded data removed]",
      "text/plain": [
       "<matplotlib.figure.Figure at 0x7ff29009d748>"
      ]
     },
     "metadata": {
      "needs_background": "light"
     },
     "output_type": "display_data"
    }
   ],
   "source": [
    "# Creating subplots for each decades\n",
    "# Used the method in this link to help me: https://matplotlib.org/devdocs/gallery/subplots_axes_and_figures/subplots_demo.html\n",
    "fig, axs = plt.subplots(3, 2, figsize=(20, 15))\n",
    "axs[0,0].barh(df_genres_1960s.genres.value_counts().index,df_genres_1960s.genres.value_counts().values)\n",
    "axs[0,0].set_title(\"Genres Frequncy for 1960s\")\n",
    "axs[0,1].barh(df_genres_1970s.genres.value_counts().index,df_genres_1970s.genres.value_counts().values)\n",
    "axs[0,1].set_title(\"Genres Frequncy for 1970s\")\n",
    "axs[1,0].barh(df_genres_1980s.genres.value_counts().index,df_genres_1980s.genres.value_counts().values)\n",
    "axs[1,0].set_title(\"Genres Frequncy for 1980s\")\n",
    "axs[1,1].barh(df_genres_1990s.genres.value_counts().index,df_genres_1990s.genres.value_counts().values)\n",
    "axs[1,1].set_title(\"Genres Frequncy for 1990s\")\n",
    "axs[2,0].barh(df_genres_2000s.genres.value_counts().index,df_genres_2000s.genres.value_counts().values)\n",
    "axs[2,0].set_title(\"Genres Frequncy for 2000s\")\n",
    "axs[2,1].barh(df_genres_2010s.genres.value_counts().index,df_genres_2010s.genres.value_counts().values)\n",
    "axs[2,1].set_title(\"Genres Frequncy for 2010s\")\n"
   ]
  },
  {
   "cell_type": "markdown",
   "metadata": {},
   "source": [
    "These plots give a nice idea about the most popular genres from decade to decade. We can see that \"Drama\" stood over decades as the most popular genre except for the 1980s as \"Comedy\" took its place but then \"Drama\" restored the first place again in the 1990s and onwards.\n",
    "\n"
   ]
  },
  {
   "cell_type": "markdown",
   "metadata": {},
   "source": [
    "<a id='conclusions'></a>\n",
    "## Conclusions\n",
    "\n",
    "### Summery\n",
    "There is a weak correlation between budget and popularity which means having a higher budget doesn't necessarily mean that the movie will have a higher popularity score.\n",
    "\n",
    "Drama genre is the most popular over the decades for 1960s till 2010s except for 1980s.\n",
    "\n",
    "### Limitations:\n",
    "\n",
    "We don't know if the sampling method used to collect this data was random sampling or not which weakens our ability to make generalizations about the population of study.\n",
    "\n",
    "Some variables like (budget, revenue, and runtime) had a minimum of zero so we considered them as outliers and they were better to be dropped to get more accurate results."
   ]
  },
  {
   "cell_type": "code",
   "execution_count": 25,
   "metadata": {},
   "outputs": [
    {
     "data": {
      "text/plain": [
       "0"
      ]
     },
     "execution_count": 25,
     "metadata": {},
     "output_type": "execute_result"
    }
   ],
   "source": [
    "from subprocess import call\n",
    "call(['python', '-m', 'nbconvert', 'Investigate_a_Dataset.ipynb'])"
   ]
  },
  {
   "cell_type": "code",
   "execution_count": null,
   "metadata": {},
   "outputs": [],
   "source": []
  }
 ],
 "metadata": {
  "kernelspec": {
   "display_name": "Python 3",
   "language": "python",
   "name": "python3"
  },
  "language_info": {
   "codemirror_mode": {
    "name": "ipython",
    "version": 3
   },
   "file_extension": ".py",
   "mimetype": "text/x-python",
   "name": "python",
   "nbconvert_exporter": "python",
   "pygments_lexer": "ipython3",
   "version": "3.8.5"
  }
 },
 "nbformat": 4,
 "nbformat_minor": 2
}
